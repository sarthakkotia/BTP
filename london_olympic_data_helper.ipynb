{
 "cells": [
  {
   "cell_type": "code",
   "execution_count": 1,
   "id": "26848724",
   "metadata": {},
   "outputs": [],
   "source": [
    "import csv\n",
    "import cv2\n",
    "import pytesseract \n",
    "from pytesseract import image_to_string\n",
    "import pandas as pd\n",
    "import re\n",
    "import os\n",
    "import numpy as np\n",
    "from moviepy.video.io.VideoFileClip import VideoFileClip\n",
    "from matplotlib import pyplot as plt\n",
    "import matplotlib.pyplot as plt\n",
    "pytesseract.pytesseract.tesseract_cmd = r'C:\\ProgramData\\anaconda3\\Library\\bin\\tesseract.exe'"
   ]
  },
  {
   "cell_type": "code",
   "execution_count": 37,
   "id": "f912f5f8",
   "metadata": {},
   "outputs": [],
   "source": [
    "def extract_text(roi):\n",
    "   \n",
    "    gray = cv2.cvtColor(roi, cv2.COLOR_BGR2GRAY)\n",
    "    # Apply thresholding to the grayscale image\n",
    "    threshold = cv2.threshold(gray, 0, 255, cv2.THRESH_BINARY_INV + cv2.THRESH_OTSU)[1]    \n",
    "   \n",
    "    # Get the text from the thresholded image using Tesseract OCR\n",
    "    text = pytesseract.image_to_string(threshold)\n",
    "    return text\n",
    "    "
   ]
  },
  {
   "cell_type": "code",
   "execution_count": 38,
   "id": "a92a630f",
   "metadata": {},
   "outputs": [],
   "source": [
    "def extract_text_grayscale(roi):\n",
    "   \n",
    "    \n",
    "    threshold = cv2.threshold(roi, 0, 255, cv2.THRESH_BINARY_INV + cv2.THRESH_OTSU)[1]    \n",
    "    text = pytesseract.image_to_string(image, config=tessdata_dir_config)\n",
    "    \n",
    "    return text\n",
    "    "
   ]
  },
  {
   "cell_type": "code",
   "execution_count": 39,
   "id": "d70bec92",
   "metadata": {},
   "outputs": [],
   "source": [
    "def extract_numbers(roi):\n",
    "   \n",
    "    gray = cv2.cvtColor(roi, cv2.COLOR_BGR2GRAY)\n",
    "    threshold = cv2.threshold(gray, 0, 255, cv2.THRESH_BINARY_INV + cv2.THRESH_OTSU)[1]    \n",
    "    text = pytesseract.image_to_string(threshold, lang='digits')\n",
    "    \n",
    "    return text\n",
    "    "
   ]
  },
  {
   "cell_type": "code",
   "execution_count": 40,
   "id": "d4fc6f2b",
   "metadata": {},
   "outputs": [],
   "source": [
    "def extract_number_grayscale(roi):\n",
    "   \n",
    "    \n",
    "    threshold = cv2.threshold(roi, 0, 255, cv2.THRESH_BINARY_INV + cv2.THRESH_OTSU)[1]    \n",
    "   \n",
    "    # Get the text from the thresholded image using Tesseract OCR\n",
    "    text = pytesseract.image_to_string(threshold, lang='digits')\n",
    "    return text\n",
    "    "
   ]
  },
  {
   "cell_type": "code",
   "execution_count": 41,
   "id": "f521d17b",
   "metadata": {},
   "outputs": [],
   "source": [
    "def extract_frame(img_rgb,template):\n",
    "    \n",
    "    desired_width = 1625\n",
    "    desired_height = 911\n",
    "    img_rgb = cv2.resize(img_rgb, (desired_width,desired_height))\n",
    "    \n",
    "    assert img_rgb is not None, \"file could not be read, check with os.path.exists()\"\n",
    "    img_gray = cv2.cvtColor(img_rgb, cv2.COLOR_BGR2GRAY)\n",
    "    #plt.imshow(cv.cvtColor(template, cv.COLOR_BGR2RGB))\n",
    "    \n",
    "    assert template is not None, \"file could not be read, check with os.path.exists()\"\n",
    "    w, h = template.shape[::-1]\n",
    "    res = cv2.matchTemplate(img_gray,template,cv2.TM_CCOEFF_NORMED)\n",
    "    threshold = 0.4\n",
    "    loc = np.where( res >= threshold)\n",
    "    #for pt in zip(*loc[::-1]):\n",
    "     #cv2.rectangle(img_rgb, pt, (pt[0] + w, pt[1] + h), (0,0,255), 2)\n",
    "    \n",
    "    cropped_image=img_rgb.copy()\n",
    "    \n",
    "    for pt in zip(*loc[::-1]):\n",
    "        x, y = pt\n",
    "        w, h = template.shape[::-1]\n",
    "        # Crop the matched region\n",
    "        cropped_image = img_rgb[y:y+h, x:x+w]\n",
    "\n",
    "        # Save the cropped image\n",
    "        #cv.imwrite('cropped_image.jpg', cropped_image)\n",
    "\n",
    "        # Draw a rectangle around the matched region\n",
    "        #cv.rectangle(img_rgb, pt, (x + w, y + h), (0, 0, 255), 2)\n",
    "    \n",
    "    cropped_image=cv2.resize(cropped_image,(template.shape[1],template.shape[0]) )\n",
    "    return cropped_image"
   ]
  },
  {
   "cell_type": "code",
   "execution_count": 42,
   "id": "09479b15",
   "metadata": {},
   "outputs": [],
   "source": [
    "def get_country(frame):\n",
    "       \n",
    "    roi = frame[0:60,40:105]\n",
    "        \n",
    "    #plt.imshow(cv2.cvtColor(roi, cv2.COLOR_BGR2RGB))   \n",
    "    return extract_text(roi)   \n",
    "    "
   ]
  },
  {
   "cell_type": "code",
   "execution_count": 43,
   "id": "f552197f",
   "metadata": {},
   "outputs": [],
   "source": [
    "def get_name(frame):\n",
    "       \n",
    "    roi = frame[0:60,210:600]\n",
    "    #plt.imshow(cv2.cvtColor(roi, cv2.COLOR_BGR2RGB))  \n",
    "        \n",
    "    return extract_text(roi)"
   ]
  },
  {
   "cell_type": "code",
   "execution_count": 44,
   "id": "28c4d921",
   "metadata": {},
   "outputs": [],
   "source": [
    "def extract_somersaults(text):\n",
    "    match1 = re.search(r'\\d+% SOMERSAULTS', text,re.IGNORECASE)\n",
    "    if match1:\n",
    "        somersaults = float(match1.group(0).split('%')[0])+0.5\n",
    "        return somersaults\n",
    "    match2 = re.search(r'(\\d+(\\.\\d+)?)\\D*\\b(somersaults?)\\b', text, re.IGNORECASE)\n",
    "    if match2:\n",
    "        somersaults = match2.group(1)\n",
    "        return somersaults\n"
   ]
  },
  {
   "cell_type": "code",
   "execution_count": 45,
   "id": "2e3445ff",
   "metadata": {},
   "outputs": [],
   "source": [
    "def extract_twists(text):\n",
    "    match1 = re.search(r'\\d+% TWISTS', text,re.IGNORECASE)\n",
    "    if match1:\n",
    "        twists = float(match1.group(0).split('%')[0])+0.5\n",
    "        return twists\n",
    "    match2 = re.search(r'(\\d+(\\.\\d+)?)\\D*\\b(twists?)\\b', text, re.IGNORECASE)\n",
    "    if match2:\n",
    "        twists = match2.group(1)\n",
    "        return twists"
   ]
  },
  {
   "cell_type": "code",
   "execution_count": 46,
   "id": "13cdf9a9",
   "metadata": {},
   "outputs": [],
   "source": [
    "def extract_allothers(text): \n",
    "    difficulty=\"\"\n",
    "    round=\"\"\n",
    "    divePosition=\"\"\n",
    "    diveGroup=\"\"\n",
    "    \n",
    "    match = re.search(r'DIFFICULTY (\\d+(\\.\\d+)?)', text, re.IGNORECASE)\n",
    "    if match:\n",
    "        difficulty = match.group(1)\n",
    "    match = re.search(r'ROUND (\\d+)', text, re.IGNORECASE)\n",
    "    if match:\n",
    "        round = match.group(1)        \n",
    "    match = re.search(r'(\\w+) POSITION', text,re.IGNORECASE)\n",
    "    if match:\n",
    "        divePosition = match.group(1) \n",
    "    match = re.search(r'(ARMSTAND|BACK|INWARD|FORWARD|REVERSE|TWISTER|ARMSTAND BACK|ARMSTAND FORWARD|BACK ARMSTAND|BACK FORWARD|BACK INWARD|BACK REVERSE|BACK TWISTER|FORWARD ARMSTAND|FORWARD BACK|FORWARD INWARD|FORWARD REVERSE|FORWARD TWISTER|INWARD BACK|INWARD FORWARD|INWARD REVERSE|INWARD TWISTER|REVERSE BACK|REVERSE FORWARD|REVERSE INWARD|REVERSE TWISTER|TWISTER BACK|TWISTER FORWARD|TWISTER INWARD|TWISTER REVERSE)', text, re.IGNORECASE)\n",
    "    if match:\n",
    "        diveGroup = match.group(1)\n",
    "    \n",
    "    return difficulty,round,divePosition,diveGroup\n",
    "\n",
    "    "
   ]
  },
  {
   "cell_type": "code",
   "execution_count": 47,
   "id": "eaf3d5a3",
   "metadata": {},
   "outputs": [],
   "source": [
    "def extract_diveinfo(frame):\n",
    "    country=\"\"\n",
    "    firstName=\"\"\n",
    "    secondName=\"\"\n",
    "    difficulty = \"\"\n",
    "    round = \"\"\n",
    "    diveGroup=\"\"\n",
    "    divePosition=\"\"\n",
    "    somersaults=\"\"\n",
    "    twists=\"\"\n",
    "    \n",
    "    country =\"\"\n",
    "    name=\"\"\n",
    "    \n",
    "    text = extract_text(frame)\n",
    "    country=get_country(frame)\n",
    "    name=get_name(frame)\n",
    "    difficulty,round,divePosition,diveGroup=extract_allothers(text)\n",
    "    somersaults = extract_somersaults(text)\n",
    "    twists = extract_twists(text)  \n",
    "                \n",
    "    \n",
    "    return round,country,name,difficulty,divePosition,somersaults,diveGroup,twists\n",
    "\n"
   ]
  },
  {
   "cell_type": "code",
   "execution_count": 48,
   "id": "c16e427f",
   "metadata": {},
   "outputs": [],
   "source": [
    "def skel(img):\n",
    "    size = np.size(img)\n",
    "    skel = np.zeros(img.shape,np.uint8)\n",
    "\n",
    "    ret,img = cv2.threshold(img,127,255,0)\n",
    "    element = cv2.getStructuringElement(cv2.MORPH_CROSS,(3,3))\n",
    "    done = False\n",
    "\n",
    "    while( not done):\n",
    "        eroded = cv2.erode(img,element)\n",
    "        temp = cv2.dilate(eroded,element)\n",
    "        temp = cv2.subtract(img,temp)\n",
    "        skel = cv2.bitwise_or(skel,temp)\n",
    "        img = eroded.copy()\n",
    "\n",
    "        zeros = size - cv2.countNonZero(img)\n",
    "        if zeros==size:\n",
    "            done = True\n",
    "    return skel"
   ]
  },
  {
   "cell_type": "code",
   "execution_count": 114,
   "id": "1a75c36f",
   "metadata": {},
   "outputs": [],
   "source": [
    "def get_final_score(frame,text):\n",
    "    score=\"\"\n",
    "    match = re.search(r'SCORE (\\d+)', text, re.IGNORECASE)\n",
    "    if match:\n",
    "        score = match.group(1)  \n",
    "        return score\n",
    "    \n",
    "    roi = frame[50:100,910:1100]\n",
    "    plt.imshow(cv2.cvtColor(roi, cv2.COLOR_BGR2RGB))  \n",
    "        \n",
    "    return extract_numbers(roi)\n"
   ]
  },
  {
   "cell_type": "code",
   "execution_count": 113,
   "id": "6e8a73e3",
   "metadata": {},
   "outputs": [
    {
     "name": "stdout",
     "output_type": "stream",
     "text": [
      "72.00\n",
      "\n"
     ]
    },
    {
     "data": {
      "image/png": "[encoded data removed]",
      "text/plain": [
       "<Figure size 640x480 with 1 Axes>"
      ]
     },
     "metadata": {},
     "output_type": "display_data"
    }
   ],
   "source": [
    "#score_frame = cv2.imread('HelperImages/mainRioRes.png')  \n",
    "#template=cv2.imread('HelperImages/template_res_london.png',cv2.IMREAD_GRAYSCALE) \n",
    "#cropped=extract_frame(score_frame,template)\n",
    "#print(get_final_score(cropped))\n",
    "    \n"
   ]
  },
  {
   "cell_type": "code",
   "execution_count": 116,
   "id": "61dcf089",
   "metadata": {},
   "outputs": [],
   "source": [
    "def extract_penalty(text):       \n",
    "    penalty = \"\"\n",
    "    judgesScore=\"\"\n",
    "    match = re.search(r'PENALTY (\\d+)', text, re.IGNORECASE)\n",
    "    if match:\n",
    "        penalty = match.group(1)    \n",
    "    return penalty\n",
    "\n",
    "def get_score(frame):\n",
    "    #plt.imshow(cv2.cvtColor(frame, cv2.COLOR_BGR2RGB))\n",
    "    penalty=\"0\"\n",
    "    text=extract_text(frame)\n",
    "    match = re.search(r'PENALTY (\\d+)', text, re.IGNORECASE)\n",
    "    if match:\n",
    "        penalty = match.group(1)\n",
    "        \n",
    "    roi = frame[110:155,5:1150]\n",
    "    plt.imshow(cv2.cvtColor(roi, cv2.COLOR_BGR2RGB))\n",
    "    roi_new=remove_strikes(roi) \n",
    "    text=extract_number_grayscale(roi_new)\n",
    "    numbers = re.findall(r'\\d+\\.\\d+|\\d+', text)\n",
    "\n",
    "    # Convert the extracted numbers to floating-point values\n",
    "    numbers = [float(number) for number in numbers]\n",
    "    return numbers,penalty \n",
    "    \n",
    "    "
   ]
  },
  {
   "cell_type": "code",
   "execution_count": 207,
   "id": "069240e1",
   "metadata": {},
   "outputs": [],
   "source": [
    "def remove_strikes(image):\n",
    "    image = cv2.cvtColor(image, cv2.COLOR_BGR2GRAY)\n",
    "    _, image = cv2.threshold(image, 128, 255, cv2.THRESH_BINARY)\n",
    "    kernel = cv2.getStructuringElement(cv2.MORPH_RECT, (5, 1))\n",
    "    eroded_image = cv2.erode(image, kernel, iterations=5)\n",
    "    result = image-eroded_image \n",
    "    \n",
    "    kernel = cv2.getStructuringElement(cv2.MORPH_RECT, (2, 1))\n",
    "    result =cv2.morphologyEx(result, cv2.MORPH_CLOSE, kernel, iterations=1)\n",
    "    \n",
    "    kernel = cv2.getStructuringElement(cv2.MORPH_RECT, (2, 1))\n",
    "    result=cv2.erode(result,kernel,iterations=2)\n",
    "    \n",
    "    result = skel(result)\n",
    "    \n",
    "    kernel = cv2.getStructuringElement(cv2.MORPH_RECT, (2,3))\n",
    "    result=cv2.dilate(result,kernel,iterations=2)\n",
    "    \n",
    "    \n",
    "    kernel = cv2.getStructuringElement(cv2.MORPH_RECT, (2, 1))\n",
    "    eroded_image = cv2.erode(result, kernel, iterations=5)    \n",
    "    \n",
    "    return result\n",
    "\n"
   ]
  },
  {
   "cell_type": "code",
   "execution_count": 107,
   "id": "0ec5a761",
   "metadata": {},
   "outputs": [],
   "source": [
    "def extract_clip(input_video_path, output_video_path, start_time, end_time):\n",
    "    print(input_video_path)\n",
    "    print(output_video_path)\n",
    "    print(start_time)\n",
    "    print(end_time)\n",
    "    # Create a VideoFileClip object for the input video\n",
    "    video_clip = VideoFileClip(input_video_path)\n",
    "\n",
    "    # Extract the subclip between start_time and end_time\n",
    "    clip = video_clip.subclip(start_time, end_time)\n",
    "\n",
    "    # Write the clip to the output video file\n",
    "    clip.write_videofile(output_video_path)\n",
    "\n",
    "    # Close the VideoFileClip object\n",
    "    video_clip.close()"
   ]
  },
  {
   "cell_type": "code",
   "execution_count": null,
   "id": "ff7bd775",
   "metadata": {},
   "outputs": [],
   "source": []
  },
  {
   "cell_type": "code",
   "execution_count": null,
   "id": "82ae7945",
   "metadata": {},
   "outputs": [],
   "source": []
  }
 ],
 "metadata": {
  "kernelspec": {
   "display_name": "Python 3 (ipykernel)",
   "language": "python",
   "name": "python3"
  },
  "language_info": {
   "codemirror_mode": {
    "name": "ipython",
    "version": 3
   },
   "file_extension": ".py",
   "mimetype": "text/x-python",
   "name": "python",
   "nbconvert_exporter": "python",
   "pygments_lexer": "ipython3",
   "version": "3.11.5"
  }
 },
 "nbformat": 4,
 "nbformat_minor": 5
}
